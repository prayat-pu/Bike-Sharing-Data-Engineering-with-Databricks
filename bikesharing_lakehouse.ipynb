{
 "cells": [
  {
   "cell_type": "markdown",
   "metadata": {
    "application/vnd.databricks.v1+cell": {
     "cellMetadata": {},
     "inputWidgets": {},
     "nuid": "ca3498dd-1cc5-4f8b-9659-52c3aa23f781",
     "showTitle": false,
     "title": ""
    }
   },
   "source": [
    "# Bronze Stages"
   ]
  },
  {
   "cell_type": "markdown",
   "metadata": {
    "application/vnd.databricks.v1+cell": {
     "cellMetadata": {},
     "inputWidgets": {},
     "nuid": "24ea8113-80fd-4394-8fb8-f0d4293eb38c",
     "showTitle": false,
     "title": ""
    }
   },
   "source": [
    "## Payment table"
   ]
  },
  {
   "cell_type": "code",
   "execution_count": 0,
   "metadata": {
    "application/vnd.databricks.v1+cell": {
     "cellMetadata": {
      "byteLimit": 2048000,
      "rowLimit": 10000
     },
     "inputWidgets": {},
     "nuid": "c6c7d10e-021c-4933-ad8f-19317590496e",
     "showTitle": false,
     "title": ""
    }
   },
   "outputs": [
    {
     "output_type": "display_data",
     "data": {
      "text/html": [
       "<style scoped>\n",
       "  .table-result-container {\n",
       "    max-height: 300px;\n",
       "    overflow: auto;\n",
       "  }\n",
       "  table, th, td {\n",
       "    border: 1px solid black;\n",
       "    border-collapse: collapse;\n",
       "  }\n",
       "  th, td {\n",
       "    padding: 5px;\n",
       "  }\n",
       "  th {\n",
       "    text-align: left;\n",
       "  }\n",
       "</style><div class='table-result-container'><table class='table-result'><thead style='background-color: white'><tr><th>payment_id</th><th>date</th><th>amount</th><th>rider_id</th></tr></thead><tbody><tr><td>1</td><td>2019-05-01T00:00:00Z</td><td>9.0</td><td>1000</td></tr><tr><td>2</td><td>2019-06-01T00:00:00Z</td><td>9.0</td><td>1000</td></tr><tr><td>3</td><td>2019-07-01T00:00:00Z</td><td>9.0</td><td>1000</td></tr><tr><td>4</td><td>2019-08-01T00:00:00Z</td><td>9.0</td><td>1000</td></tr><tr><td>5</td><td>2019-09-01T00:00:00Z</td><td>9.0</td><td>1000</td></tr></tbody></table></div>"
      ]
     },
     "metadata": {
      "application/vnd.databricks.v1+output": {
       "addedWidgets": {},
       "aggData": [],
       "aggError": "",
       "aggOverflow": false,
       "aggSchema": [],
       "aggSeriesLimitReached": false,
       "aggType": "",
       "arguments": {},
       "columnCustomDisplayInfos": {},
       "data": [
        [
         1,
         "2019-05-01T00:00:00Z",
         9.0,
         1000
        ],
        [
         2,
         "2019-06-01T00:00:00Z",
         9.0,
         1000
        ],
        [
         3,
         "2019-07-01T00:00:00Z",
         9.0,
         1000
        ],
        [
         4,
         "2019-08-01T00:00:00Z",
         9.0,
         1000
        ],
        [
         5,
         "2019-09-01T00:00:00Z",
         9.0,
         1000
        ]
       ],
       "datasetInfos": [],
       "dbfsResultPath": null,
       "isJsonSchema": true,
       "metadata": {},
       "overflow": false,
       "plotOptions": {
        "customPlotOptions": {},
        "displayType": "table",
        "pivotAggregation": null,
        "pivotColumns": null,
        "xColumns": null,
        "yColumns": null
       },
       "removedWidgets": [],
       "schema": [
        {
         "metadata": "{}",
         "name": "payment_id",
         "type": "\"long\""
        },
        {
         "metadata": "{}",
         "name": "date",
         "type": "\"timestamp\""
        },
        {
         "metadata": "{}",
         "name": "amount",
         "type": "\"double\""
        },
        {
         "metadata": "{}",
         "name": "rider_id",
         "type": "\"long\""
        }
       ],
       "type": "table"
      }
     },
     "output_type": "display_data"
    }
   ],
   "source": [
    "payment_df = spark.read.format(\"csv\") \\\n",
    "    .option(\"inferSchema\",\"true\") \\\n",
    "    .option('header','false') \\\n",
    "    .option('sep',',') \\\n",
    "    .load('dbfs:/FileStore/bikesharing/payments.csv')\n",
    "\n",
    "\n",
    "payment_df = payment_df.withColumnRenamed(\"_c0\", \"payment_id\").withColumnRenamed(\"_c1\", \"date\").withColumnRenamed(\"_c2\", \"amount\").withColumnRenamed(\"_c3\", \"rider_id\")\n",
    "\n",
    "from pyspark.sql.functions import to_timestamp\n",
    "# Converting a date string column to timestamp using a specific format\n",
    "payment_df = payment_df.withColumn(\"date\", to_timestamp(\"date\", \"yyyy-MM-dd HH:mm:ss\"))\n",
    "\n",
    "\n",
    "display(payment_df.take(5))"
   ]
  },
  {
   "cell_type": "markdown",
   "metadata": {
    "application/vnd.databricks.v1+cell": {
     "cellMetadata": {},
     "inputWidgets": {},
     "nuid": "1426ed1c-c6a3-4dff-b9dd-d64d006f69e7",
     "showTitle": false,
     "title": ""
    }
   },
   "source": [
    "Save bronze_payment table"
   ]
  },
  {
   "cell_type": "code",
   "execution_count": 0,
   "metadata": {
    "application/vnd.databricks.v1+cell": {
     "cellMetadata": {
      "byteLimit": 2048000,
      "rowLimit": 10000
     },
     "inputWidgets": {},
     "nuid": "df8693ac-1011-4f95-b4fc-2df7914fabcc",
     "showTitle": false,
     "title": ""
    }
   },
   "outputs": [],
   "source": [
    "payment_df.write.format('delta') \\\n",
    "                .mode('overwrite') \\\n",
    "                .saveAsTable('bronze_payment')"
   ]
  },
  {
   "cell_type": "markdown",
   "metadata": {
    "application/vnd.databricks.v1+cell": {
     "cellMetadata": {},
     "inputWidgets": {},
     "nuid": "7931f4e4-18e2-48f3-bcc2-17b0e5084793",
     "showTitle": false,
     "title": ""
    }
   },
   "source": [
    "## Rider table"
   ]
  },
  {
   "cell_type": "code",
   "execution_count": 0,
   "metadata": {
    "application/vnd.databricks.v1+cell": {
     "cellMetadata": {
      "byteLimit": 2048000,
      "rowLimit": 10000
     },
     "inputWidgets": {},
     "nuid": "34c0332b-b932-48ed-ad54-3e3791ae3dea",
     "showTitle": false,
     "title": ""
    }
   },
   "outputs": [
    {
     "output_type": "display_data",
     "data": {
      "text/html": [
       "<style scoped>\n",
       "  .table-result-container {\n",
       "    max-height: 300px;\n",
       "    overflow: auto;\n",
       "  }\n",
       "  table, th, td {\n",
       "    border: 1px solid black;\n",
       "    border-collapse: collapse;\n",
       "  }\n",
       "  th, td {\n",
       "    padding: 5px;\n",
       "  }\n",
       "  th {\n",
       "    text-align: left;\n",
       "  }\n",
       "</style><div class='table-result-container'><table class='table-result'><thead style='background-color: white'><tr><th>rider_id</th><th>first</th><th>last</th><th>address</th><th>birthday</th><th>account_start_date</th><th>account_end_date</th><th>is_member</th></tr></thead><tbody><tr><td>1000</td><td>Diana</td><td>Clark</td><td>1200 Alyssa Squares</td><td>1989-02-13</td><td>2019-04-23</td><td>null</td><td>true</td></tr><tr><td>1001</td><td>Jennifer</td><td>Smith</td><td>397 Diana Ferry</td><td>1976-08-10</td><td>2019-11-01</td><td>2020-09-01</td><td>true</td></tr><tr><td>1002</td><td>Karen</td><td>Smith</td><td>644 Brittany Row Apt. 097</td><td>1998-08-10</td><td>2022-02-04</td><td>null</td><td>true</td></tr><tr><td>1003</td><td>Bryan</td><td>Roberts</td><td>996 Dickerson Turnpike</td><td>1999-03-29</td><td>2019-08-26</td><td>null</td><td>false</td></tr><tr><td>1004</td><td>Jesse</td><td>Middleton</td><td>7009 Nathan Expressway</td><td>1969-04-11</td><td>2019-09-14</td><td>null</td><td>true</td></tr></tbody></table></div>"
      ]
     },
     "metadata": {
      "application/vnd.databricks.v1+output": {
       "addedWidgets": {},
       "aggData": [],
       "aggError": "",
       "aggOverflow": false,
       "aggSchema": [],
       "aggSeriesLimitReached": false,
       "aggType": "",
       "arguments": {},
       "columnCustomDisplayInfos": {},
       "data": [
        [
         1000,
         "Diana",
         "Clark",
         "1200 Alyssa Squares",
         "1989-02-13",
         "2019-04-23",
         null,
         true
        ],
        [
         1001,
         "Jennifer",
         "Smith",
         "397 Diana Ferry",
         "1976-08-10",
         "2019-11-01",
         "2020-09-01",
         true
        ],
        [
         1002,
         "Karen",
         "Smith",
         "644 Brittany Row Apt. 097",
         "1998-08-10",
         "2022-02-04",
         null,
         true
        ],
        [
         1003,
         "Bryan",
         "Roberts",
         "996 Dickerson Turnpike",
         "1999-03-29",
         "2019-08-26",
         null,
         false
        ],
        [
         1004,
         "Jesse",
         "Middleton",
         "7009 Nathan Expressway",
         "1969-04-11",
         "2019-09-14",
         null,
         true
        ]
       ],
       "datasetInfos": [],
       "dbfsResultPath": null,
       "isJsonSchema": true,
       "metadata": {},
       "overflow": false,
       "plotOptions": {
        "customPlotOptions": {},
        "displayType": "table",
        "pivotAggregation": null,
        "pivotColumns": null,
        "xColumns": null,
        "yColumns": null
       },
       "removedWidgets": [],
       "schema": [
        {
         "metadata": "{}",
         "name": "rider_id",
         "type": "\"long\""
        },
        {
         "metadata": "{}",
         "name": "first",
         "type": "\"string\""
        },
        {
         "metadata": "{}",
         "name": "last",
         "type": "\"string\""
        },
        {
         "metadata": "{}",
         "name": "address",
         "type": "\"string\""
        },
        {
         "metadata": "{}",
         "name": "birthday",
         "type": "\"date\""
        },
        {
         "metadata": "{}",
         "name": "account_start_date",
         "type": "\"date\""
        },
        {
         "metadata": "{}",
         "name": "account_end_date",
         "type": "\"date\""
        },
        {
         "metadata": "{}",
         "name": "is_member",
         "type": "\"boolean\""
        }
       ],
       "type": "table"
      }
     },
     "output_type": "display_data"
    }
   ],
   "source": [
    "rider_df = spark.read.format(\"csv\") \\\n",
    "    .option(\"inferSchema\",\"true\") \\\n",
    "    .option('header','false') \\\n",
    "    .option('sep',',') \\\n",
    "    .load('dbfs:/FileStore/bikesharing/riders.csv')\n",
    "\n",
    "rider_df = rider_df.withColumnRenamed(\"_c0\", \"rider_id\") \\\n",
    "                   .withColumnRenamed(\"_c1\", \"first\") \\\n",
    "                   .withColumnRenamed(\"_c2\", \"last\") \\\n",
    "                   .withColumnRenamed(\"_c3\", \"address\") \\\n",
    "                   .withColumnRenamed(\"_c4\", \"birthday\") \\\n",
    "                   .withColumnRenamed(\"_c5\", \"account_start_date\") \\\n",
    "                   .withColumnRenamed(\"_c6\", \"account_end_date\") \\\n",
    "                   .withColumnRenamed(\"_c7\", \"is_member\")\n",
    "\n",
    "\n",
    "display(rider_df.take(5))"
   ]
  },
  {
   "cell_type": "markdown",
   "metadata": {
    "application/vnd.databricks.v1+cell": {
     "cellMetadata": {},
     "inputWidgets": {},
     "nuid": "177d61d9-ad0f-4186-897c-d1431569798d",
     "showTitle": false,
     "title": ""
    }
   },
   "source": [
    "Save bronze_rider table"
   ]
  },
  {
   "cell_type": "code",
   "execution_count": 0,
   "metadata": {
    "application/vnd.databricks.v1+cell": {
     "cellMetadata": {
      "byteLimit": 2048000,
      "rowLimit": 10000
     },
     "inputWidgets": {},
     "nuid": "290e581d-1c27-4a3e-83c1-c5836aee949f",
     "showTitle": false,
     "title": ""
    }
   },
   "outputs": [],
   "source": [
    "rider_df.write.format('delta') \\\n",
    "                .mode('overwrite') \\\n",
    "                .saveAsTable('bronze_rider')"
   ]
  },
  {
   "cell_type": "markdown",
   "metadata": {
    "application/vnd.databricks.v1+cell": {
     "cellMetadata": {},
     "inputWidgets": {},
     "nuid": "694500b6-b1fe-47be-8933-bbab1cd36f1d",
     "showTitle": false,
     "title": ""
    }
   },
   "source": [
    "## Station table"
   ]
  },
  {
   "cell_type": "code",
   "execution_count": 0,
   "metadata": {
    "application/vnd.databricks.v1+cell": {
     "cellMetadata": {
      "byteLimit": 2048000,
      "rowLimit": 10000
     },
     "inputWidgets": {},
     "nuid": "3a444d7e-0987-4c14-9026-fe17306cd6d3",
     "showTitle": false,
     "title": ""
    }
   },
   "outputs": [
    {
     "output_type": "display_data",
     "data": {
      "text/html": [
       "<style scoped>\n",
       "  .table-result-container {\n",
       "    max-height: 300px;\n",
       "    overflow: auto;\n",
       "  }\n",
       "  table, th, td {\n",
       "    border: 1px solid black;\n",
       "    border-collapse: collapse;\n",
       "  }\n",
       "  th, td {\n",
       "    padding: 5px;\n",
       "  }\n",
       "  th {\n",
       "    text-align: left;\n",
       "  }\n",
       "</style><div class='table-result-container'><table class='table-result'><thead style='background-color: white'><tr><th>station_id</th><th>name</th><th>latitude</th><th>longitude</th></tr></thead><tbody><tr><td>525</td><td>Glenwood Ave & Touhy Ave</td><td>42.012701</td><td>-87.66605799999999</td></tr><tr><td>KA1503000012</td><td>Clark St & Lake St</td><td>41.88579466666667</td><td>-87.63110066666668</td></tr><tr><td>637</td><td>Wood St & Chicago Ave</td><td>41.895634</td><td>-87.672069</td></tr><tr><td>13216</td><td>State St & 33rd St</td><td>41.8347335</td><td>-87.6258275</td></tr><tr><td>18003</td><td>Fairbanks St & Superior St</td><td>41.89580766666667</td><td>-87.62025316666669</td></tr></tbody></table></div>"
      ]
     },
     "metadata": {
      "application/vnd.databricks.v1+output": {
       "addedWidgets": {},
       "aggData": [],
       "aggError": "",
       "aggOverflow": false,
       "aggSchema": [],
       "aggSeriesLimitReached": false,
       "aggType": "",
       "arguments": {},
       "columnCustomDisplayInfos": {},
       "data": [
        [
         "525",
         "Glenwood Ave & Touhy Ave",
         42.012701,
         -87.66605799999999
        ],
        [
         "KA1503000012",
         "Clark St & Lake St",
         41.88579466666667,
         -87.63110066666668
        ],
        [
         "637",
         "Wood St & Chicago Ave",
         41.895634,
         -87.672069
        ],
        [
         "13216",
         "State St & 33rd St",
         41.8347335,
         -87.6258275
        ],
        [
         "18003",
         "Fairbanks St & Superior St",
         41.89580766666667,
         -87.62025316666669
        ]
       ],
       "datasetInfos": [],
       "dbfsResultPath": null,
       "isJsonSchema": true,
       "metadata": {},
       "overflow": false,
       "plotOptions": {
        "customPlotOptions": {},
        "displayType": "table",
        "pivotAggregation": null,
        "pivotColumns": null,
        "xColumns": null,
        "yColumns": null
       },
       "removedWidgets": [],
       "schema": [
        {
         "metadata": "{}",
         "name": "station_id",
         "type": "\"string\""
        },
        {
         "metadata": "{}",
         "name": "name",
         "type": "\"string\""
        },
        {
         "metadata": "{}",
         "name": "latitude",
         "type": "\"double\""
        },
        {
         "metadata": "{}",
         "name": "longitude",
         "type": "\"double\""
        }
       ],
       "type": "table"
      }
     },
     "output_type": "display_data"
    }
   ],
   "source": [
    "station_df = spark.read.format(\"csv\") \\\n",
    "    .option(\"inferSchema\",\"true\") \\\n",
    "    .option('header','false') \\\n",
    "    .option('sep',',') \\\n",
    "    .load('dbfs:/FileStore/bikesharing/stations.csv')\n",
    "\n",
    "station_df = station_df.withColumnRenamed(\"_c0\", \"station_id\") \\\n",
    "                   .withColumnRenamed(\"_c1\", \"name\") \\\n",
    "                   .withColumnRenamed(\"_c2\", \"latitude\") \\\n",
    "                   .withColumnRenamed(\"_c3\", \"longitude\")\n",
    "\n",
    "display(station_df.take(5))"
   ]
  },
  {
   "cell_type": "code",
   "execution_count": 0,
   "metadata": {
    "application/vnd.databricks.v1+cell": {
     "cellMetadata": {
      "byteLimit": 2048000,
      "rowLimit": 10000
     },
     "inputWidgets": {},
     "nuid": "f6fa740e-cf3c-4584-93d7-171009309e3f",
     "showTitle": false,
     "title": ""
    }
   },
   "outputs": [],
   "source": [
    "station_df.write.format('delta') \\\n",
    "                .mode('overwrite') \\\n",
    "                .saveAsTable('bronze_station')"
   ]
  },
  {
   "cell_type": "markdown",
   "metadata": {
    "application/vnd.databricks.v1+cell": {
     "cellMetadata": {},
     "inputWidgets": {},
     "nuid": "23f5a444-31db-48ab-a55b-fee915583d87",
     "showTitle": false,
     "title": ""
    }
   },
   "source": [
    "## Trip table"
   ]
  },
  {
   "cell_type": "code",
   "execution_count": 0,
   "metadata": {
    "application/vnd.databricks.v1+cell": {
     "cellMetadata": {
      "byteLimit": 2048000,
      "rowLimit": 10000
     },
     "inputWidgets": {},
     "nuid": "01b6f0f9-39a7-4b8c-a0a3-59a705f0d372",
     "showTitle": false,
     "title": ""
    }
   },
   "outputs": [
    {
     "output_type": "display_data",
     "data": {
      "text/html": [
       "<style scoped>\n",
       "  .table-result-container {\n",
       "    max-height: 300px;\n",
       "    overflow: auto;\n",
       "  }\n",
       "  table, th, td {\n",
       "    border: 1px solid black;\n",
       "    border-collapse: collapse;\n",
       "  }\n",
       "  th, td {\n",
       "    padding: 5px;\n",
       "  }\n",
       "  th {\n",
       "    text-align: left;\n",
       "  }\n",
       "</style><div class='table-result-container'><table class='table-result'><thead style='background-color: white'><tr><th>trip_id</th><th>rideable_type</th><th>start_at</th><th>ended_at</th><th>start_station_id</th><th>end_station_id</th><th>rider_id</th></tr></thead><tbody><tr><td>89E7AA6C29227EFF</td><td>classic_bike</td><td>2021-02-12T16:14:56Z</td><td>2021-02-12T16:21:43Z</td><td>525</td><td>660</td><td>71934</td></tr><tr><td>0FEFDE2603568365</td><td>classic_bike</td><td>2021-02-14T17:52:38Z</td><td>2021-02-14T18:12:09Z</td><td>525</td><td>16806</td><td>47854</td></tr><tr><td>E6159D746B2DBB91</td><td>electric_bike</td><td>2021-02-09T19:10:18Z</td><td>2021-02-09T19:19:10Z</td><td>KA1503000012</td><td>TA1305000029</td><td>70870</td></tr><tr><td>B32D3199F1C2E75B</td><td>classic_bike</td><td>2021-02-02T17:49:41Z</td><td>2021-02-02T17:54:06Z</td><td>637</td><td>TA1305000034</td><td>58974</td></tr><tr><td>83E463F23575F4BF</td><td>electric_bike</td><td>2021-02-23T15:07:23Z</td><td>2021-02-23T15:22:37Z</td><td>13216</td><td>TA1309000055</td><td>39608</td></tr></tbody></table></div>"
      ]
     },
     "metadata": {
      "application/vnd.databricks.v1+output": {
       "addedWidgets": {},
       "aggData": [],
       "aggError": "",
       "aggOverflow": false,
       "aggSchema": [],
       "aggSeriesLimitReached": false,
       "aggType": "",
       "arguments": {},
       "columnCustomDisplayInfos": {},
       "data": [
        [
         "89E7AA6C29227EFF",
         "classic_bike",
         "2021-02-12T16:14:56Z",
         "2021-02-12T16:21:43Z",
         "525",
         "660",
         71934
        ],
        [
         "0FEFDE2603568365",
         "classic_bike",
         "2021-02-14T17:52:38Z",
         "2021-02-14T18:12:09Z",
         "525",
         "16806",
         47854
        ],
        [
         "E6159D746B2DBB91",
         "electric_bike",
         "2021-02-09T19:10:18Z",
         "2021-02-09T19:19:10Z",
         "KA1503000012",
         "TA1305000029",
         70870
        ],
        [
         "B32D3199F1C2E75B",
         "classic_bike",
         "2021-02-02T17:49:41Z",
         "2021-02-02T17:54:06Z",
         "637",
         "TA1305000034",
         58974
        ],
        [
         "83E463F23575F4BF",
         "electric_bike",
         "2021-02-23T15:07:23Z",
         "2021-02-23T15:22:37Z",
         "13216",
         "TA1309000055",
         39608
        ]
       ],
       "datasetInfos": [],
       "dbfsResultPath": null,
       "isJsonSchema": true,
       "metadata": {},
       "overflow": false,
       "plotOptions": {
        "customPlotOptions": {},
        "displayType": "table",
        "pivotAggregation": null,
        "pivotColumns": null,
        "xColumns": null,
        "yColumns": null
       },
       "removedWidgets": [],
       "schema": [
        {
         "metadata": "{}",
         "name": "trip_id",
         "type": "\"string\""
        },
        {
         "metadata": "{}",
         "name": "rideable_type",
         "type": "\"string\""
        },
        {
         "metadata": "{}",
         "name": "start_at",
         "type": "\"timestamp\""
        },
        {
         "metadata": "{}",
         "name": "ended_at",
         "type": "\"timestamp\""
        },
        {
         "metadata": "{}",
         "name": "start_station_id",
         "type": "\"string\""
        },
        {
         "metadata": "{}",
         "name": "end_station_id",
         "type": "\"string\""
        },
        {
         "metadata": "{}",
         "name": "rider_id",
         "type": "\"long\""
        }
       ],
       "type": "table"
      }
     },
     "output_type": "display_data"
    }
   ],
   "source": [
    "trip_df = spark.read.format(\"csv\") \\\n",
    "    .option(\"inferSchema\",\"true\") \\\n",
    "    .option('header','false') \\\n",
    "    .option('sep',',') \\\n",
    "    .load('dbfs:/FileStore/bikesharing/trips.csv')\n",
    "\n",
    "trip_df = trip_df.withColumnRenamed(\"_c0\", \"trip_id\") \\\n",
    "                   .withColumnRenamed(\"_c1\", \"rideable_type\") \\\n",
    "                   .withColumnRenamed(\"_c2\", \"start_at\") \\\n",
    "                   .withColumnRenamed(\"_c3\", \"ended_at\") \\\n",
    "                   .withColumnRenamed(\"_c4\", \"start_station_id\") \\\n",
    "                   .withColumnRenamed(\"_c5\", \"end_station_id\") \\\n",
    "                   .withColumnRenamed(\"_c6\", \"rider_id\")\n",
    "\n",
    "display(trip_df.take(5))"
   ]
  },
  {
   "cell_type": "code",
   "execution_count": 0,
   "metadata": {
    "application/vnd.databricks.v1+cell": {
     "cellMetadata": {
      "byteLimit": 2048000,
      "rowLimit": 10000
     },
     "inputWidgets": {},
     "nuid": "3ee28530-a41a-4b02-a601-a4979a393b12",
     "showTitle": false,
     "title": ""
    }
   },
   "outputs": [],
   "source": [
    "trip_df.write.format('delta') \\\n",
    "                .mode('overwrite') \\\n",
    "                .saveAsTable('bronze_trip')"
   ]
  },
  {
   "cell_type": "markdown",
   "metadata": {
    "application/vnd.databricks.v1+cell": {
     "cellMetadata": {},
     "inputWidgets": {},
     "nuid": "3ce9edf3-6385-4273-a93a-bee45a52ef50",
     "showTitle": false,
     "title": ""
    }
   },
   "source": [
    "# Silver Stages\n",
    "because this dataset doesn't have other process, i will skip this process to gold stages that create data warehouse."
   ]
  },
  {
   "cell_type": "markdown",
   "metadata": {
    "application/vnd.databricks.v1+cell": {
     "cellMetadata": {},
     "inputWidgets": {},
     "nuid": "8f75a2d1-31c9-483c-a7bf-b0794026f622",
     "showTitle": false,
     "title": ""
    }
   },
   "source": [
    "# Gold Stages"
   ]
  },
  {
   "cell_type": "markdown",
   "metadata": {
    "application/vnd.databricks.v1+cell": {
     "cellMetadata": {},
     "inputWidgets": {},
     "nuid": "7fe9086e-a28b-4435-ad86-ddbe0ac2208a",
     "showTitle": false,
     "title": ""
    }
   },
   "source": [
    "## create  and load gold payment table"
   ]
  },
  {
   "cell_type": "code",
   "execution_count": 0,
   "metadata": {
    "application/vnd.databricks.v1+cell": {
     "cellMetadata": {
      "byteLimit": 2048000,
      "rowLimit": 10000
     },
     "inputWidgets": {},
     "nuid": "85d01b65-af3a-4579-94ac-a9db0b47d49f",
     "showTitle": false,
     "title": ""
    }
   },
   "outputs": [
    {
     "output_type": "execute_result",
     "data": {
      "text/plain": [
       "DataFrame[num_affected_rows: bigint, num_inserted_rows: bigint]"
      ]
     },
     "execution_count": 75,
     "metadata": {},
     "output_type": "execute_result"
    }
   ],
   "source": [
    "spark.sql(\"\"\"\n",
    "        create table if not exists gold_fact_payment\n",
    "        as\n",
    "        select row_number() over(order by payment_id) as gold_payment_id,\n",
    "          p.date as time_id, \n",
    "          r.rider_id, \n",
    "          p.amount \n",
    "        from bronze_payment as p\n",
    "        join bronze_rider as r\n",
    "        on p.rider_id = r.rider_id\n",
    "        \"\"\")"
   ]
  },
  {
   "cell_type": "markdown",
   "metadata": {
    "application/vnd.databricks.v1+cell": {
     "cellMetadata": {},
     "inputWidgets": {},
     "nuid": "3038ba2c-740f-44dc-807d-68f0b0931f04",
     "showTitle": false,
     "title": ""
    }
   },
   "source": [
    "## create and load gold dim rider "
   ]
  },
  {
   "cell_type": "code",
   "execution_count": 0,
   "metadata": {
    "application/vnd.databricks.v1+cell": {
     "cellMetadata": {
      "byteLimit": 2048000,
      "rowLimit": 10000
     },
     "inputWidgets": {},
     "nuid": "4b4d4eba-d8e8-4f70-a45e-32f3543b4c2e",
     "showTitle": false,
     "title": ""
    }
   },
   "outputs": [
    {
     "output_type": "execute_result",
     "data": {
      "text/plain": [
       "DataFrame[num_affected_rows: bigint, num_inserted_rows: bigint]"
      ]
     },
     "execution_count": 40,
     "metadata": {},
     "output_type": "execute_result"
    }
   ],
   "source": [
    "spark.sql(\"\"\"\n",
    "        create table if not exists gold_dim_rider\n",
    "        as\n",
    "        select rider_id,\n",
    "        first, \n",
    "        last, \n",
    "        address,\n",
    "        birthday,\n",
    "        account_start_date,\n",
    "        account_end_date,\n",
    "        is_member\n",
    "        from bronze_rider\n",
    "        \"\"\")"
   ]
  },
  {
   "cell_type": "markdown",
   "metadata": {
    "application/vnd.databricks.v1+cell": {
     "cellMetadata": {},
     "inputWidgets": {},
     "nuid": "0189bc18-0ccd-461a-94d1-483aeae1ed7e",
     "showTitle": false,
     "title": ""
    }
   },
   "source": [
    "## create and load gold dim station"
   ]
  },
  {
   "cell_type": "code",
   "execution_count": 0,
   "metadata": {
    "application/vnd.databricks.v1+cell": {
     "cellMetadata": {
      "byteLimit": 2048000,
      "rowLimit": 10000
     },
     "inputWidgets": {},
     "nuid": "9ca6499e-8f1c-4aa5-8d76-d1bceea5ad07",
     "showTitle": false,
     "title": ""
    }
   },
   "outputs": [
    {
     "output_type": "execute_result",
     "data": {
      "text/plain": [
       "DataFrame[num_affected_rows: bigint, num_inserted_rows: bigint]"
      ]
     },
     "execution_count": 46,
     "metadata": {},
     "output_type": "execute_result"
    }
   ],
   "source": [
    "spark.sql(\"\"\"\n",
    "        create table if not exists gold_dim_station\n",
    "        as\n",
    "        select station_id, \n",
    "        name,\n",
    "        latitude, \n",
    "        longitude\n",
    "        from bronze_station\n",
    "        \"\"\")"
   ]
  },
  {
   "cell_type": "markdown",
   "metadata": {
    "application/vnd.databricks.v1+cell": {
     "cellMetadata": {},
     "inputWidgets": {},
     "nuid": "39aa3c8a-68bc-41a1-8b25-defa7580ff8b",
     "showTitle": false,
     "title": ""
    }
   },
   "source": [
    "## create and load gold fact trip"
   ]
  },
  {
   "cell_type": "code",
   "execution_count": 0,
   "metadata": {
    "application/vnd.databricks.v1+cell": {
     "cellMetadata": {
      "byteLimit": 2048000,
      "rowLimit": 10000
     },
     "inputWidgets": {},
     "nuid": "e268f68f-a690-4f5b-ae3d-4cf1149f53f8",
     "showTitle": false,
     "title": ""
    }
   },
   "outputs": [
    {
     "output_type": "execute_result",
     "data": {
      "text/plain": [
       "DataFrame[num_affected_rows: bigint, num_inserted_rows: bigint]"
      ]
     },
     "execution_count": 55,
     "metadata": {},
     "output_type": "execute_result"
    }
   ],
   "source": [
    "spark.sql(\"\"\"\n",
    "        create table if not exists gold_fact_trip\n",
    "        as\n",
    "        select ROW_NUMBER() over(order by trip.trip_id) as fact_trip_id,\n",
    "              rider.rider_id,\n",
    "              trip.start_at AS start_at,\n",
    "              trip.ended_at AS ended_at,\n",
    "              trip.start_station_id,\n",
    "              trip.end_station_id,\n",
    "              DATEDIFF(minute, start_at, ended_at) AS Total_Mins\n",
    "              FROM bronze_trip as trip\n",
    "              JOIN bronze_rider as rider on trip.rider_id = rider.rider_id\n",
    "        \"\"\")"
   ]
  },
  {
   "cell_type": "markdown",
   "metadata": {
    "application/vnd.databricks.v1+cell": {
     "cellMetadata": {},
     "inputWidgets": {},
     "nuid": "04805ab5-fc2b-44f0-a2d5-ae87755b01e3",
     "showTitle": false,
     "title": ""
    }
   },
   "source": [
    "## create and load gold dim time"
   ]
  },
  {
   "cell_type": "code",
   "execution_count": 0,
   "metadata": {
    "application/vnd.databricks.v1+cell": {
     "cellMetadata": {
      "byteLimit": 2048000,
      "rowLimit": 10000
     },
     "inputWidgets": {},
     "nuid": "6f7fcead-25ee-45f1-8c3c-dd92c670ef79",
     "showTitle": false,
     "title": ""
    }
   },
   "outputs": [
    {
     "output_type": "execute_result",
     "data": {
      "text/plain": [
       "DataFrame[num_affected_rows: bigint, num_inserted_rows: bigint]"
      ]
     },
     "execution_count": 92,
     "metadata": {},
     "output_type": "execute_result"
    }
   ],
   "source": [
    "spark.sql(\"\"\"\n",
    "    create table if not exists gold_dim_time\n",
    "    as\n",
    "    SELECT DISTINCT start_at AS datetime,\n",
    "      minute(start_at) as min,\n",
    "      hour(start_at) as hour,\n",
    "      dayofmonth(start_at) as day,\n",
    "      month(start_at) as month,\n",
    "      year(start_at) as year,\n",
    "      dayofweek(start_at) as dayofweek\n",
    "    from bronze_trip\n",
    "    union all\n",
    "    SELECT DISTINCT ended_at AS datetime,\n",
    "          minute(ended_at) as min,\n",
    "          hour(ended_at) as hour,\n",
    "          dayofmonth(ended_at) as day,\n",
    "          month(ended_at) as month,\n",
    "          year(ended_at) as year,\n",
    "          dayofweek(ended_at) as dayofweek\n",
    "          from bronze_trip \n",
    "    union all\n",
    "        SELECT DISTINCT date AS datetime,\n",
    "          minute(date) as min,\n",
    "          hour(date) as hour,\n",
    "          dayofmonth(date) as day,\n",
    "          month(date) as month,\n",
    "          year(date) as year,\n",
    "          dayofweek(date) as dayofweek\n",
    "          from bronze_payment\n",
    "    \"\"\")"
   ]
  },
  {
   "cell_type": "code",
   "execution_count": 0,
   "metadata": {
    "application/vnd.databricks.v1+cell": {
     "cellMetadata": {},
     "inputWidgets": {},
     "nuid": "6df1f310-4666-453a-ae9a-5e7e94073b8c",
     "showTitle": false,
     "title": ""
    }
   },
   "outputs": [],
   "source": []
  }
 ],
 "metadata": {
  "application/vnd.databricks.v1+notebook": {
   "dashboards": [],
   "language": "python",
   "notebookMetadata": {
    "pythonIndentUnit": 4
   },
   "notebookName": "bikesharing_lakehouse",
   "widgets": {}
  }
 },
 "nbformat": 4,
 "nbformat_minor": 0
}
